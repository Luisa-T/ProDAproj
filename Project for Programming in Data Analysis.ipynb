{
 "cells": [
  {
   "cell_type": "markdown",
   "metadata": {},
   "source": [
    "## Problem statement\n",
    "\n",
    "In the following I will attempt to create a dataset by simulating a real-world phenomenon.\n",
    "The data is not collected but will be modelled and synthesised using Python.\n",
    "\n",
    "The following points will be investigated:\n",
    "\n",
    "1. I will choose a real-world phenomenon which can be measured and for which I would be able to collect at least 100 data points across at least four different variables.\n",
    "\n",
    "2. I will investigate the types of variables involved, their likely distributions and how they are related to each other.\n",
    "\n",
    "3. I will simulate/synthesise the dataset matching their properties as closely as possible.\n",
    "\n",
    "4. I will detail my research and implement the simulation in this Jupyter notebook. "
   ]
  }
 ],
 "metadata": {
  "kernelspec": {
   "display_name": "Python 3",
   "language": "python",
   "name": "python3"
  },
  "language_info": {
   "codemirror_mode": {
    "name": "ipython",
    "version": 3
   },
   "file_extension": ".py",
   "mimetype": "text/x-python",
   "name": "python",
   "nbconvert_exporter": "python",
   "pygments_lexer": "ipython3",
   "version": "3.6.5"
  }
 },
 "nbformat": 4,
 "nbformat_minor": 2
}
