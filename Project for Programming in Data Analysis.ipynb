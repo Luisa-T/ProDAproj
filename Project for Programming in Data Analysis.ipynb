{
 "cells": [
  {
   "cell_type": "markdown",
   "metadata": {},
   "source": [
    "## Problem statement\n",
    "\n",
    "In the following I will attempt to create a dataset by simulating a real-world phenomenon.\n",
    "The data is not collected but will be modelled and synthesised using Python.\n",
    "\n",
    "The following points will be investigated:\n",
    "\n",
    "1. I will choose a real-world phenomenon which can be measured and for which I would be able to collect at least 100 data points across at least four different variables.\n",
    "\n",
    "2. I will investigate the types of variables involved, their likely distributions and how they are related to each other.\n",
    "\n",
    "3. I will simulate/synthesise the dataset matching their properties as closely as possible.\n",
    "\n",
    "4. I will detail my research and implement the simulation in this Jupyter notebook. "
   ]
  },
  {
   "cell_type": "markdown",
   "metadata": {},
   "source": [
    "## Explanation of the real-world phenomenon to be investigated"
   ]
  },
  {
   "cell_type": "markdown",
   "metadata": {},
   "source": [
    "The following will investigate absenteeism at work in customer support, using the following four variables: Day of the Week, Education, Owner of a pet, and Shift Work.\n",
    "I got the idea for this from the following:\n",
    "https://archive.ics.uci.edu/ml/machine-learning-databases/00445/\n",
    "but I am using different significant variables. The data could be connected in one of the multinational companies which require shift work especially shift work in the sense that the employee would work a normal day shift for 4 weeks and then from 16:00 to midnight. Several studies suggest that unregular shiftwork has a negative impact on the health of employees, specifically they have a higher chance to get DiabetesII, cognitive impairment, cardiovascular diseases, lung cancer, depression, ulcers, and sleep problems.  [1, 2, 3, 4]\n",
    "day of the week\n",
    "education \n",
    "pet owner"
   ]
  },
  {
   "cell_type": "code",
   "execution_count": null,
   "metadata": {},
   "outputs": [],
   "source": []
  },
  {
   "cell_type": "markdown",
   "metadata": {},
   "source": [
    "## References:\n",
    "[1] The impact of shift work on health: https://www.medicalnewstoday.com/articles/288310.php\n",
    "[2] Shift work health risks: Heart Disease, ulcers, obesity, diabetes, depression, accidents https://www.webmd.com/sleep-disorders/features/shift-work\n",
    "[3] Shiftwork - health effects -OHS Reps: http://www.ohsrep.org.au/hazards/fatigue,-impairment-and-shift-work/shiftwork-health-effects\n",
    "[4] Health effects of shift work and extended hours of work: https://oem.bmj.com/content/58/1/68"
   ]
  },
  {
   "cell_type": "markdown",
   "metadata": {},
   "source": [
    "## End"
   ]
  }
 ],
 "metadata": {
  "kernelspec": {
   "display_name": "Python 3",
   "language": "python",
   "name": "python3"
  },
  "language_info": {
   "codemirror_mode": {
    "name": "ipython",
    "version": 3
   },
   "file_extension": ".py",
   "mimetype": "text/x-python",
   "name": "python",
   "nbconvert_exporter": "python",
   "pygments_lexer": "ipython3",
   "version": "3.6.5"
  }
 },
 "nbformat": 4,
 "nbformat_minor": 2
}
