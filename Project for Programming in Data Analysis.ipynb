{
 "cells": [
  {
   "cell_type": "markdown",
   "metadata": {},
   "source": [
    "## Problem statement\n",
    "\n",
    "In the following I will attempt to create a dataset by simulating a real-world phenomenon.\n",
    "The data is not collected but will be modelled and synthesised using Python.\n",
    "\n",
    "The following points will be investigated:\n",
    "\n",
    "1. I will choose a real-world phenomenon which can be measured and for which I would be able to collect at least 100 data points across at least four different variables.\n",
    "\n",
    "2. I will investigate the types of variables involved, their likely distributions and how they are related to each other.\n",
    "\n",
    "3. I will simulate/synthesise the dataset matching their properties as closely as possible.\n",
    "\n",
    "4. I will detail my research and implement the simulation in this Jupyter notebook. "
   ]
  },
  {
   "cell_type": "markdown",
   "metadata": {},
   "source": [
    "## 1. Explanation of the real-world phenomenon to be investigated"
   ]
  },
  {
   "cell_type": "markdown",
   "metadata": {},
   "source": [
    "The following will investigate absenteeism at work in customer support, using the following four variables: Day of the Week, Education, Owner of a pet, and Shift Work.\n",
    "I got the idea for this from the following:\n",
    "https://archive.ics.uci.edu/ml/machine-learning-databases/00445/\n",
    "but I am using different significant variables. The data could be collected in one of the multinational companies which require shift work especially shift work in the sense that the employee would work a normal day shift for 4 weeks and then from 16:00 to midnight for a week and then back to an early shift. "
   ]
  },
  {
   "cell_type": "markdown",
   "metadata": {},
   "source": [
    "## 2. The variables involved, likely distributions and relations"
   ]
  },
  {
   "cell_type": "markdown",
   "metadata": {},
   "source": [
    "Several studies suggest that unregular shiftwork has a negative impact on the health of employees, specifically they have a higher chance to get Diabetes II, cognitive impairment, cardiovascular diseases, lung cancer, depression, ulcers, and sleep problems.  [1, 2, 3, 4] This would be a boolean variable, meaning either the person does shiftwork or not.\n",
    "\n",
    "The day of the week seems to also have an inpact on the levels of absenteeism. The levels of absence seem to be related to the day of week; Monday tends to have the most absences and Friday either the least or the same level as Mondays depending on the study; the researcher referred to their index as the \"Blue Monday syndrome\" [5, 6, 7]. Across the week the research suggests that there may be a distribution where two peaks are observed so in this case a bimodal distribution with an inverse bell shape would be most appropriate.\n",
    "\n",
    "The level of education also seems to have an impact on the level of absenteeism in that the higher a person is educated the less days of absence they have [8]. The variable would be divided into no formal education, leaving certificate, Batchelor, Master, Doctorate. For this an exponential distribution would make most sense.\n",
    "\n",
    "Several studies suggest that being a pet owner is beneficial to the person's health and also significantly reduces stress [9,10].  Here we have another boolean variable. It could be subdivided into which pet the person has but I do not think it is necessary.\n",
    "\n",
    "In terms of relations between the variables, I would think that shiftwork would go together with lower education and Mondays and Fridays being the most likely days the person calls in sick. I would also suggest that pet ownership may be negatively related to this in the sense that a person doing shiftwork being less likely to have a pet and also that pet owners would be less likely to be sick on Mondays and Fridays compared to non-pet owners."
   ]
  },
  {
   "cell_type": "markdown",
   "metadata": {},
   "source": [
    "## 3. Simulation of the data"
   ]
  },
  {
   "cell_type": "code",
   "execution_count": 30,
   "metadata": {},
   "outputs": [
    {
     "name": "stdout",
     "output_type": "stream",
     "text": [
      "        0         1         2         3         4        5         6   \\\n",
      "0  0.81597  0.500061  0.829403  0.503728  0.738297  0.14304  0.409713   \n",
      "\n",
      "         7         8         9    ...           90        91        92  \\\n",
      "0  0.605505  0.652434  0.902958   ...     0.310678  0.139923  0.029712   \n",
      "\n",
      "         93        94        95        96        97        98       99  \n",
      "0  0.832349  0.730304  0.810505  0.821056  0.971574  0.949778  0.50922  \n",
      "\n",
      "[1 rows x 100 columns]\n"
     ]
    },
    {
     "data": {
      "text/plain": [
       "<Figure size 7200x7200 with 0 Axes>"
      ]
     },
     "metadata": {},
     "output_type": "display_data"
    },
    {
     "data": {
      "text/plain": [
       "<matplotlib.axes._subplots.AxesSubplot at 0x236ee55a7b8>"
      ]
     },
     "execution_count": 30,
     "metadata": {},
     "output_type": "execute_result"
    },
    {
     "data": {
      "image/png": "[encoded data removed]",
      "text/plain": [
       "<Figure size 432x288 with 2 Axes>"
      ]
     },
     "metadata": {},
     "output_type": "display_data"
    }
   ],
   "source": [
    "# Code for each variable\n",
    "import numpy as np\n",
    "from scipy.stats import arcsine\n",
    "import pandas as pd\n",
    "from pandas import DataFrame \n",
    "import matplotlib.pyplot as plt\n",
    "import seaborn as sns\n",
    "\n",
    "# Variable for shift-work\n",
    "sw = bool # boolean variable\n",
    "\n",
    "# Day of the week Arcsine distribution (https://docs.scipy.org/doc/scipy/reference/generated/scipy.stats.arcsine.html)\n",
    "dow = np.linspace(arcsine.ppf(0.01), arcsine.ppf(0.99), 100)\n",
    "\n",
    "# level of education as a variable\n",
    "loe = np.random.uniform(0, 5, 100)\n",
    "\n",
    "# variable for pet ownership\n",
    "po = bool #boolean\n",
    "\n",
    "# Creating a random dataset\n",
    "sample = np.random.sample(100)\n",
    "\n",
    "col1 = sw\n",
    "col2 = dow\n",
    "col3 = loe\n",
    "col4 = po\n",
    "\n",
    "#create dataframe\n",
    "df = pd.DataFrame([sample])\n",
    "print(df)\n",
    "\n",
    "#function to calculate the likelihood of absenteeism and the correlations between the variables \n",
    "def absenteeism():\n",
    "        if sw == 0:\n",
    "            dow = 0 or 4, \n",
    "            loe <= 2, \n",
    "            po == 0,\n",
    "            print('The likelihood of absenteeism is ')\n",
    "        else:\n",
    "            print('The level of absenteeism is')\n",
    "\n",
    "# calculate the correlation between the four different variables using the Pearson coefficient\n",
    "df.corr(method='pearson')  \n",
    "\n",
    "#create a figure showing the data\n",
    "plt.figure(figsize=(100,100))\n",
    "plt.show()\n",
    "\n",
    "# this will create a heatmap using different colours to graphically display the dataset\n",
    "sns.heatmap(df)\n"
   ]
  },
  {
   "cell_type": "markdown",
   "metadata": {},
   "source": [
    "## 4. Detailing the research and implementation"
   ]
  },
  {
   "cell_type": "markdown",
   "metadata": {},
   "source": [
    "As mentioned before, the level of absenteeism can be affected by many different reasons. Shift-work is associated with many adverse long-term effects. Several chronic health conditions are more prevalent in shift workers, such as heart conditions, sleep problems, diabetes, and ulcers to name a few. This then would have an impact on the level of absenteeism, whether due to illness or due to calling in sick without being sick. The level of absenteeism is also associated with the day of the week. Mondays and Fridays are the most popular days to be absent from work."
   ]
  },
  {
   "cell_type": "markdown",
   "metadata": {},
   "source": [
    "## References:\n",
    "\n",
    "[1] The impact of shift work on health: https://www.medicalnewstoday.com/articles/288310.php\n",
    "\n",
    "[2] Shift work health risks: Heart Disease, ulcers, obesity, diabetes, depression, accidents https://www.webmd.com/sleep-disorders/features/shift-work\n",
    "\n",
    "[3] Shiftwork - health effects -OHS Reps: http://www.ohsrep.org.au/hazards/fatigue,-impairment-and-shift-work/shiftwork-health-effects\n",
    "\n",
    "[4] Health effects of shift work and extended hours of work: https://oem.bmj.com/content/58/1/68\n",
    "\n",
    "[5] Statistically, what is the most popular day for people to miss work: https://www.quora.com/Statistically-what-is-the-most-popular-day-for-people-to-miss-work\n",
    "\n",
    "[6]How to deal with Employee Absence Surge on Mondays and Fridays: https://theundercoverrecruiter.com/employee-absence-mondays-fridays/\n",
    "\n",
    "[7] http://news.bbc.co.uk/2/hi/health/8347332.stm\n",
    "\n",
    "[8] Haltletveit, JM. Education as a Determinant of Temporary Absenteeism: www.nsd.uib.no/data/individ/publikasjoner/Hatletveit.pdf\n",
    "\n",
    "[9] https://www.bmj.com/content/331/7527/1252?ecoll=\n",
    "\n",
    "[10] Social factors of sickness absence and ways of coping \n",
    "https://www.tandfonline.com/doi/abs/10.1080/14623730.2012.696350"
   ]
  },
  {
   "cell_type": "markdown",
   "metadata": {},
   "source": [
    "## End"
   ]
  }
 ],
 "metadata": {
  "kernelspec": {
   "display_name": "Python 3",
   "language": "python",
   "name": "python3"
  },
  "language_info": {
   "codemirror_mode": {
    "name": "ipython",
    "version": 3
   },
   "file_extension": ".py",
   "mimetype": "text/x-python",
   "name": "python",
   "nbconvert_exporter": "python",
   "pygments_lexer": "ipython3",
   "version": "3.6.5"
  }
 },
 "nbformat": 4,
 "nbformat_minor": 2
}
